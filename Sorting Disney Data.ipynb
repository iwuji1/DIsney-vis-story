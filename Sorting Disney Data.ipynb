{
 "cells": [
  {
   "cell_type": "code",
   "execution_count": 1,
   "metadata": {},
   "outputs": [
    {
     "name": "stdout",
     "output_type": "stream",
     "text": [
      "                                movie_title  release_date              genre  \\\n",
      "0           Snow White and the Seven Dwarfs          1937            Musical   \n",
      "1                                 Pinocchio          1940          Adventure   \n",
      "2                                  Fantasia          1940            Musical   \n",
      "3                         Song of the South          1946          Adventure   \n",
      "4                                Cinderella          1950              Drama   \n",
      "5              20,000 Leagues Under the Sea          1954          Adventure   \n",
      "6                        Lady and the Tramp          1955              Drama   \n",
      "7                           Sleeping Beauty          1959              Drama   \n",
      "8                            101 Dalmatians          1961             Comedy   \n",
      "9               The Absent Minded Professor          1961             Comedy   \n",
      "10                         Babes in Toyland          1961            Musical   \n",
      "11                              Bon Voyage!          1962             Comedy   \n",
      "12                   The Sword in the Stone          1963          Adventure   \n",
      "13                          The Jungle Book          1967            Musical   \n",
      "14                       Blackbeard's Ghost          1968             Comedy   \n",
      "15                           The Aristocats          1970            Musical   \n",
      "16                             The Boatniks          1970             Comedy   \n",
      "17                 Bedknobs and Broomsticks          1971            Musical   \n",
      "18                  The Apple Dumpling Gang          1975             Comedy   \n",
      "19                            Freaky Friday          1977             Comedy   \n",
      "20   The Many Adventures of Winnie the Pooh          1977                NaN   \n",
      "21                             The Rescuers          1977          Adventure   \n",
      "22               Herbie Goes to Monte Carlo          1977                NaN   \n",
      "23                           The Black Hole          1979                NaN   \n",
      "24                         Midnight Madness          1980                NaN   \n",
      "25            The Last Flight of Noah’s Ark          1980                NaN   \n",
      "26                 The Devil and Max Devlin          1981                NaN   \n",
      "27                                      Amy          1981              Drama   \n",
      "28                    The Fox and the Hound          1981             Comedy   \n",
      "29                                Condorman          1981             Action   \n",
      "..                                      ...           ...                ...   \n",
      "549                 Guardians of the Galaxy          2014          Adventure   \n",
      "550                The Hundred-Foot Journey          2014    Romantic Comedy   \n",
      "551  Alexander and the Terrible, Horrible,…          2014             Comedy   \n",
      "552                              Big Hero 6          2014          Adventure   \n",
      "553                          Into the Woods          2014            Musical   \n",
      "554                           Strange Magic          2015          Adventure   \n",
      "555                          McFarland, USA          2015              Drama   \n",
      "556                              Cinderella          2015              Drama   \n",
      "557                          Monkey Kingdom          2015        Documentary   \n",
      "558                 Avengers: Age of Ultron          2015             Action   \n",
      "559                            Tomorrowland          2015          Adventure   \n",
      "560                              Inside Out          2015          Adventure   \n",
      "561                                 Ant-Man          2015             Action   \n",
      "562                         Bridge of Spies          2015  Thriller/Suspense   \n",
      "563                       The Good Dinosaur          2015          Adventure   \n",
      "564    Star Wars Ep. VII: The Force Awakens          2015          Adventure   \n",
      "565                        The Finest Hours          2016  Thriller/Suspense   \n",
      "566                                Zootopia          2016          Adventure   \n",
      "567                         The Jungle Book          2016          Adventure   \n",
      "568                      A Beautiful Planet          2016        Documentary   \n",
      "569              Captain America: Civil War          2016             Action   \n",
      "570         Alice Through the Looking Glass          2016          Adventure   \n",
      "571                            Finding Dory          2016          Adventure   \n",
      "572                                 The BFG          2016          Adventure   \n",
      "573                           Pete’s Dragon          2016          Adventure   \n",
      "574                The Light Between Oceans          2016              Drama   \n",
      "575                          Queen of Katwe          2016              Drama   \n",
      "576                          Doctor Strange          2016          Adventure   \n",
      "577                                   Moana          2016          Adventure   \n",
      "578            Rogue One: A Star Wars Story          2016          Adventure   \n",
      "\n",
      "    mpaa_rating  total_gross  inflation_adjusted_gross  \n",
      "0             G    184925485                5228953251  \n",
      "1             G     84300000                2188229052  \n",
      "2             G     83320000                2187090808  \n",
      "3             G     65000000                1078510579  \n",
      "4             G     85000000                 920608730  \n",
      "5           NaN     28200000                 528279994  \n",
      "6             G     93600000                1236035515  \n",
      "7           NaN      9464608                  21505832  \n",
      "8             G    153000000                1362870985  \n",
      "9           NaN     25381407                 310094574  \n",
      "10            G     10218316                 124841160  \n",
      "11    Not Rated      9230769                 109581646  \n",
      "12          NaN     22182353                 153870834  \n",
      "13    Not Rated    141843000                 789612346  \n",
      "14          NaN     21540050                 138612686  \n",
      "15            G     55675257                 255161499  \n",
      "16          NaN     18607492                 101200742  \n",
      "17          NaN     17871174                  91305448  \n",
      "18          NaN     31916500                 131246872  \n",
      "19          NaN     25942000                  98067733  \n",
      "20          NaN            0                         0  \n",
      "21          NaN     48775599                 159743914  \n",
      "22          NaN     28000000                 105847527  \n",
      "23          NaN     35841901                 120377374  \n",
      "24          NaN      2900000                   9088096  \n",
      "25          NaN     11000000                  34472116  \n",
      "26          NaN     16000000                  48517980  \n",
      "27          NaN            0                         0  \n",
      "28          NaN     43899231                 133118889  \n",
      "29          NaN            0                         0  \n",
      "..          ...          ...                       ...  \n",
      "549       PG-13    333172112                 343771168  \n",
      "550          PG     54235441                  55961409  \n",
      "551          PG     66954149                  69055550  \n",
      "552          PG    222527828                 229249222  \n",
      "553          PG    128002372                 130894237  \n",
      "554          PG     12429583                  12429583  \n",
      "555          PG     44480275                  44480275  \n",
      "556          PG    201151353                 201151353  \n",
      "557           G     16432322                  16432322  \n",
      "558       PG-13    459005868                 459005868  \n",
      "559          PG     93436322                  93436322  \n",
      "560          PG    356461711                 356461711  \n",
      "561       PG-13    180202163                 180202163  \n",
      "562       PG-13     72313754                  72313754  \n",
      "563          PG    123087120                 123087120  \n",
      "564       PG-13    936662225                 936662225  \n",
      "565          PG     27569558                  27569558  \n",
      "566          PG    341268248                 341268248  \n",
      "567          PG    364001123                 364001123  \n",
      "568           G      7895708                   7895708  \n",
      "569       PG-13    408084349                 408084349  \n",
      "570          PG     77042381                  77042381  \n",
      "571          PG    486295561                 486295561  \n",
      "572          PG     55483770                  55483770  \n",
      "573          PG     76233151                  76233151  \n",
      "574       PG-13     12545979                  12545979  \n",
      "575          PG      8874389                   8874389  \n",
      "576       PG-13    232532923                 232532923  \n",
      "577          PG    246082029                 246082029  \n",
      "578       PG-13    529483936                 529483936  \n",
      "\n",
      "[579 rows x 6 columns]\n"
     ]
    }
   ],
   "source": [
    "import pandas as pd \n",
    "import numpy as np\n",
    "\n",
    "df = pd.read_csv(\"disney_movies.csv\", header=0, encoding='utf-8')\n",
    "print (df)"
   ]
  },
  {
   "cell_type": "code",
   "execution_count": 2,
   "metadata": {},
   "outputs": [
    {
     "data": {
      "text/plain": [
       "17"
      ]
     },
     "execution_count": 2,
     "metadata": {},
     "output_type": "execute_result"
    }
   ],
   "source": [
    "df[\"genre\"].isnull().sum().sum()"
   ]
  },
  {
   "cell_type": "code",
   "execution_count": 3,
   "metadata": {},
   "outputs": [
    {
     "data": {
      "text/plain": [
       "56"
      ]
     },
     "execution_count": 3,
     "metadata": {},
     "output_type": "execute_result"
    }
   ],
   "source": [
    "df[\"mpaa_rating\"].isnull().sum().sum()"
   ]
  },
  {
   "cell_type": "code",
   "execution_count": 7,
   "metadata": {},
   "outputs": [
    {
     "name": "stdout",
     "output_type": "stream",
     "text": [
      "2016\n",
      "1937     1\n",
      "1940     2\n",
      "1946     1\n",
      "1950     1\n",
      "1955     1\n",
      "1961     2\n",
      "1962     1\n",
      "1967     1\n",
      "1970     1\n",
      "1984     1\n",
      "1986     3\n",
      "1987     4\n",
      "1988     7\n",
      "1989     9\n",
      "1990    14\n",
      "1991    14\n",
      "1992    19\n",
      "1993    24\n",
      "1994    27\n",
      "1995    32\n",
      "1996    27\n",
      "1997    23\n",
      "1998    22\n",
      "1999    20\n",
      "2000    19\n",
      "2001    13\n",
      "2002    21\n",
      "2003    19\n",
      "2004    19\n",
      "2005    17\n",
      "2006    19\n",
      "2007    14\n",
      "2008    13\n",
      "2009    16\n",
      "2010    14\n",
      "2011    14\n",
      "2012    10\n",
      "2013    11\n",
      "2014    12\n",
      "2015    11\n",
      "2016    14\n",
      "Name: release_date, dtype: int64\n"
     ]
    }
   ],
   "source": [
    "df = df[df['genre'].notna()]\n",
    "df[\"genre\"].isnull().sum().sum()\n",
    "print(df[\"release_date\"].max())\n",
    "print(df['release_date'].value_counts().sort_index())"
   ]
  },
  {
   "cell_type": "code",
   "execution_count": 8,
   "metadata": {},
   "outputs": [
    {
     "data": {
      "text/plain": [
       "0"
      ]
     },
     "execution_count": 8,
     "metadata": {},
     "output_type": "execute_result"
    }
   ],
   "source": [
    "df = df[df['mpaa_rating'].notna()]\n",
    "df[\"mpaa_rating\"].isnull().sum().sum()"
   ]
  },
  {
   "cell_type": "code",
   "execution_count": 9,
   "metadata": {},
   "outputs": [
    {
     "name": "stdout",
     "output_type": "stream",
     "text": [
      "                       movie_title  release_date      genre mpaa_rating  \\\n",
      "0  Snow White and the Seven Dwarfs          1937    Musical           G   \n",
      "1                        Pinocchio          1940  Adventure           G   \n",
      "2                         Fantasia          1940    Musical           G   \n",
      "3                Song of the South          1946  Adventure           G   \n",
      "4                       Cinderella          1950      Drama           G   \n",
      "\n",
      "   total_gross  inflation_adjusted_gross           time  \n",
      "0    184925485                5228953251  1950s - 1970s  \n",
      "1     84300000                2188229052  1950s - 1970s  \n",
      "2     83320000                2187090808  1950s - 1970s  \n",
      "3     65000000                1078510579  1950s - 1970s  \n",
      "4     85000000                 920608730  1950s - 1970s  \n"
     ]
    }
   ],
   "source": [
    "df.loc[(df['release_date'] >= 1930) & (df['release_date'] < 1970), 'time'] = \"1950s - 1970s\"\n",
    "df.loc[(df['release_date'] >= 1970) & (df['release_date'] < 1990), 'time'] = \"1970s - 1990s\"\n",
    "df.loc[(df['release_date'] >= 1990) & (df['release_date'] < 1995), 'time'] = \"1990 to 1995\"\n",
    "df.loc[(df['release_date'] >= 1995) & (df['release_date'] < 2000), 'time'] = \"1995 to 2000\"\n",
    "df.loc[(df['release_date'] >= 2000) & (df['release_date'] < 2005), 'time'] = \"2000 to 2005\"\n",
    "df.loc[(df['release_date'] >= 2005) & (df['release_date'] < 2010), 'time'] = \"2005 to 2010\"\n",
    "df.loc[(df['release_date'] >= 2010) & (df['release_date'] < 2012), 'time'] = \"2010 to 2012\"\n",
    "df.loc[(df['release_date'] >= 2012) & (df['release_date'] < 2014), 'time'] = \"2012 to 2014\"\n",
    "df.loc[(df['release_date'] >= 2014) & (df['release_date'] < 2016), 'time'] = \"2014 to 2016\"\n",
    "df.loc[(df['release_date'] >= 2016) & (df['release_date'] < 2017), 'time'] = \"2016 to 2017\"\n",
    "print(df.head())"
   ]
  },
  {
   "cell_type": "code",
   "execution_count": 19,
   "metadata": {},
   "outputs": [
    {
     "data": {
      "text/plain": [
       "PG           185\n",
       "PG-13        141\n",
       "R             98\n",
       "G             86\n",
       "Not Rated      3\n",
       "Name: mpaa_rating, dtype: int64"
      ]
     },
     "execution_count": 19,
     "metadata": {},
     "output_type": "execute_result"
    }
   ],
   "source": [
    "df[\"mpaa_rating\"].value_counts()"
   ]
  },
  {
   "cell_type": "code",
   "execution_count": 10,
   "metadata": {},
   "outputs": [
    {
     "data": {
      "text/plain": [
       "count    5.130000e+02\n",
       "mean     1.275941e+08\n",
       "std      3.014755e+08\n",
       "min      2.984000e+03\n",
       "25%      2.624856e+07\n",
       "50%      5.967913e+07\n",
       "75%      1.291642e+08\n",
       "max      5.228953e+09\n",
       "Name: inflation_adjusted_gross, dtype: float64"
      ]
     },
     "execution_count": 10,
     "metadata": {},
     "output_type": "execute_result"
    }
   ],
   "source": [
    "df[\"inflation_adjusted_gross\"].describe()"
   ]
  },
  {
   "cell_type": "code",
   "execution_count": 11,
   "metadata": {},
   "outputs": [],
   "source": [
    "df[\"bins\"] = pd.qcut(df[\"inflation_adjusted_gross\"], q=20, precision=0)"
   ]
  },
  {
   "cell_type": "code",
   "execution_count": 13,
   "metadata": {},
   "outputs": [],
   "source": [
    "# bin_labels_40 = [1,2,3,4,5,6,7,8,9,10,11,12,13,14,15,16,17,18,19,20,21,22,23,24,25,26,27,28,29,30,31,32,33,34,35,36,37,38,39,40]\n",
    "\n",
    "# df[\"Hist_col\"] = pd.qcut(df[\"inflation_adjusted_gross\"], q=40, precision=0, labels = bin_labels_40)"
   ]
  },
  {
   "cell_type": "code",
   "execution_count": 12,
   "metadata": {},
   "outputs": [],
   "source": [
    "df[\"midpoint\"] = df[\"bins\"].apply(lambda x: x.mid)"
   ]
  },
  {
   "cell_type": "code",
   "execution_count": 14,
   "metadata": {},
   "outputs": [
    {
     "name": "stdout",
     "output_type": "stream",
     "text": [
      "513\n"
     ]
    }
   ],
   "source": [
    "ct = {}\n",
    "hist_col = []\n",
    "\n",
    "for i in df[\"bins\"]:\n",
    "    if i in ct:\n",
    "        ct[i] += 1\n",
    "    else:\n",
    "        ct[i] = 0\n",
    "    hist_col.append(ct[i])\n",
    "    \n",
    "print (len(hist_col))"
   ]
  },
  {
   "cell_type": "code",
   "execution_count": 15,
   "metadata": {},
   "outputs": [],
   "source": [
    "df[\"Hist_col\"] = hist_col"
   ]
  },
  {
   "cell_type": "code",
   "execution_count": 16,
   "metadata": {},
   "outputs": [
    {
     "data": {
      "text/html": [
       "<div>\n",
       "<style scoped>\n",
       "    .dataframe tbody tr th:only-of-type {\n",
       "        vertical-align: middle;\n",
       "    }\n",
       "\n",
       "    .dataframe tbody tr th {\n",
       "        vertical-align: top;\n",
       "    }\n",
       "\n",
       "    .dataframe thead th {\n",
       "        text-align: right;\n",
       "    }\n",
       "</style>\n",
       "<table border=\"1\" class=\"dataframe\">\n",
       "  <thead>\n",
       "    <tr style=\"text-align: right;\">\n",
       "      <th></th>\n",
       "      <th>movie_title</th>\n",
       "      <th>release_date</th>\n",
       "      <th>genre</th>\n",
       "      <th>mpaa_rating</th>\n",
       "      <th>total_gross</th>\n",
       "      <th>inflation_adjusted_gross</th>\n",
       "      <th>time</th>\n",
       "      <th>bins</th>\n",
       "      <th>midpoint</th>\n",
       "      <th>Hist_col</th>\n",
       "    </tr>\n",
       "  </thead>\n",
       "  <tbody>\n",
       "    <tr>\n",
       "      <th>0</th>\n",
       "      <td>Snow White and the Seven Dwarfs</td>\n",
       "      <td>1937</td>\n",
       "      <td>Musical</td>\n",
       "      <td>G</td>\n",
       "      <td>184925485</td>\n",
       "      <td>5228953251</td>\n",
       "      <td>1950s - 1970s</td>\n",
       "      <td>(380100992.0, 5228953251.0]</td>\n",
       "      <td>2.804527e+09</td>\n",
       "      <td>0</td>\n",
       "    </tr>\n",
       "    <tr>\n",
       "      <th>1</th>\n",
       "      <td>Pinocchio</td>\n",
       "      <td>1940</td>\n",
       "      <td>Adventure</td>\n",
       "      <td>G</td>\n",
       "      <td>84300000</td>\n",
       "      <td>2188229052</td>\n",
       "      <td>1950s - 1970s</td>\n",
       "      <td>(380100992.0, 5228953251.0]</td>\n",
       "      <td>2.804527e+09</td>\n",
       "      <td>1</td>\n",
       "    </tr>\n",
       "    <tr>\n",
       "      <th>2</th>\n",
       "      <td>Fantasia</td>\n",
       "      <td>1940</td>\n",
       "      <td>Musical</td>\n",
       "      <td>G</td>\n",
       "      <td>83320000</td>\n",
       "      <td>2187090808</td>\n",
       "      <td>1950s - 1970s</td>\n",
       "      <td>(380100992.0, 5228953251.0]</td>\n",
       "      <td>2.804527e+09</td>\n",
       "      <td>2</td>\n",
       "    </tr>\n",
       "    <tr>\n",
       "      <th>3</th>\n",
       "      <td>Song of the South</td>\n",
       "      <td>1946</td>\n",
       "      <td>Adventure</td>\n",
       "      <td>G</td>\n",
       "      <td>65000000</td>\n",
       "      <td>1078510579</td>\n",
       "      <td>1950s - 1970s</td>\n",
       "      <td>(380100992.0, 5228953251.0]</td>\n",
       "      <td>2.804527e+09</td>\n",
       "      <td>3</td>\n",
       "    </tr>\n",
       "    <tr>\n",
       "      <th>4</th>\n",
       "      <td>Cinderella</td>\n",
       "      <td>1950</td>\n",
       "      <td>Drama</td>\n",
       "      <td>G</td>\n",
       "      <td>85000000</td>\n",
       "      <td>920608730</td>\n",
       "      <td>1950s - 1970s</td>\n",
       "      <td>(380100992.0, 5228953251.0]</td>\n",
       "      <td>2.804527e+09</td>\n",
       "      <td>4</td>\n",
       "    </tr>\n",
       "  </tbody>\n",
       "</table>\n",
       "</div>"
      ],
      "text/plain": [
       "                       movie_title  release_date      genre mpaa_rating  \\\n",
       "0  Snow White and the Seven Dwarfs          1937    Musical           G   \n",
       "1                        Pinocchio          1940  Adventure           G   \n",
       "2                         Fantasia          1940    Musical           G   \n",
       "3                Song of the South          1946  Adventure           G   \n",
       "4                       Cinderella          1950      Drama           G   \n",
       "\n",
       "   total_gross  inflation_adjusted_gross           time  \\\n",
       "0    184925485                5228953251  1950s - 1970s   \n",
       "1     84300000                2188229052  1950s - 1970s   \n",
       "2     83320000                2187090808  1950s - 1970s   \n",
       "3     65000000                1078510579  1950s - 1970s   \n",
       "4     85000000                 920608730  1950s - 1970s   \n",
       "\n",
       "                          bins      midpoint  Hist_col  \n",
       "0  (380100992.0, 5228953251.0]  2.804527e+09         0  \n",
       "1  (380100992.0, 5228953251.0]  2.804527e+09         1  \n",
       "2  (380100992.0, 5228953251.0]  2.804527e+09         2  \n",
       "3  (380100992.0, 5228953251.0]  2.804527e+09         3  \n",
       "4  (380100992.0, 5228953251.0]  2.804527e+09         4  "
      ]
     },
     "execution_count": 16,
     "metadata": {},
     "output_type": "execute_result"
    }
   ],
   "source": [
    "df.head()"
   ]
  },
  {
   "cell_type": "code",
   "execution_count": 17,
   "metadata": {},
   "outputs": [],
   "source": [
    "df.to_csv(\"disney_movies_groups.csv\")"
   ]
  }
 ],
 "metadata": {
  "kernelspec": {
   "display_name": "Python 3",
   "language": "python",
   "name": "python3"
  },
  "language_info": {
   "codemirror_mode": {
    "name": "ipython",
    "version": 3
   },
   "file_extension": ".py",
   "mimetype": "text/x-python",
   "name": "python",
   "nbconvert_exporter": "python",
   "pygments_lexer": "ipython3",
   "version": "3.6.5"
  }
 },
 "nbformat": 4,
 "nbformat_minor": 2
}
